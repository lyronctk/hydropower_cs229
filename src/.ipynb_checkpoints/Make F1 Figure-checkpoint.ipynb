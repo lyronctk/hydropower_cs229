{
 "cells": [
  {
   "cell_type": "code",
   "execution_count": 1,
   "metadata": {},
   "outputs": [],
   "source": [
    "from matplotlib import pyplot as plt\n",
    "import numpy as np\n",
    "import pandas as pd\n",
    "import seaborn as sns"
   ]
  },
  {
   "cell_type": "code",
   "execution_count": 22,
   "metadata": {},
   "outputs": [
    {
     "data": {
      "text/plain": [
       "Text(0.5, 1.0, 'NN With Hyperparameter Tuning and Feature Selection')"
      ]
     },
     "execution_count": 22,
     "metadata": {},
     "output_type": "execute_result"
    },
    {
     "data": {
      "image/png": "[encoded data removed]",
      "text/plain": [
       "<Figure size 1332x396 with 3 Axes>"
      ]
     },
     "metadata": {
      "needs_background": "light"
     },
     "output_type": "display_data"
    }
   ],
   "source": [
    "#Columns: Original, Feature Selection (Round 1), Hyperparameter Tuning\n",
    "#Row: Best model type (NN?)\n",
    "#Elems: Triple bar graph with F1, Precision, Recall (x-axis) across all 3 grades (A, B, C)\n",
    "fig, ax = plt.subplots(1,3)\n",
    "fig.set_size_inches(18.5, 5.5)\n",
    "\n",
    "N = 3\n",
    "ind = np.arange(N)  # the x locations for the groups\n",
    "width = 0.27        # the width of the bars\n",
    "\n",
    "colors = ['lightsteelblue', 'gainsboro', 'cornflowerblue']\n",
    "labels = ['Grade A', 'Grade B', 'Grade C']\n",
    "\n",
    "# Baseline\n",
    "\n",
    "yvals0 = [0.68, 0.93, 0.78] #Grade A scores\n",
    "rects01 = ax[0].bar(ind, yvals0, width, color=colors[0])\n",
    "zvals0 = [0.67,0.24,0.35]\n",
    "rects02 = ax[0].bar(ind+width, zvals0, width, color=colors[1])\n",
    "kvals0 = [.33,0.14,0.20]\n",
    "rects03 = ax[0].bar(ind+width*2, kvals0, width, color=colors[2])\n",
    "\n",
    "ax[0].set_ylabel('Scores')\n",
    "ax[0].set_xticks(ind+width)\n",
    "ax[0].set_xticklabels( ('F1 Score', 'Recall', 'Precision') )\n",
    "ax[0].legend( (rects01[0], rects02[0], rects03[0]), ('Grade A', 'Grade B', 'Grade C') )\n",
    "ax[0].set_title('Baseline (LR)')\n",
    "\n",
    "#NN with FS\n",
    "\n",
    "yvals1 = [0.50, 0.02, 0.04]\n",
    "rects11 = ax[1].bar(ind, yvals1, width, color=colors[0])\n",
    "zvals1 = [0.29,0.92,0.44]\n",
    "rects12 = ax[1].bar(ind+width, zvals1, width, color=colors[1])\n",
    "kvals1 = [0.20,0.40,0.17]\n",
    "rects13 = ax[1].bar(ind+width*2, kvals1, width, color=colors[2])\n",
    "\n",
    "ax[1].set_ylabel('Scores')\n",
    "ax[1].set_xticks(ind+width)\n",
    "ax[1].set_xticklabels( ('F1 Score', 'Recall', 'Precision') )\n",
    "ax[1].legend( (rects11[1], rects12[1], rects13[1]), ('Grade A', 'Grade B', 'Grade C') )\n",
    "ax[1].set_title('NN With Hyperparameter Tuning')\n",
    "\n",
    "#NN with FS, HT\n",
    "\n",
    "yvals2 = [0.50, 0.02, 0.04]\n",
    "rects21 = ax[2].bar(ind, yvals2, width, color=colors[0])\n",
    "zvals2 = [0.29,0.92,0.44]\n",
    "rects22 = ax[2].bar(ind+width, zvals2, width, color=colors[1])\n",
    "kvals2 = [0.20,0.40,0.17]\n",
    "rects23 = ax[2].bar(ind+width*2, kvals2, width, color=colors[2])\n",
    "\n",
    "ax[2].set_ylabel('Scores')\n",
    "ax[2].set_xticks(ind+width)\n",
    "ax[2].set_xticklabels( ('F1 Score', 'Recall', 'Precision') )\n",
    "ax[2].legend( (rects21[2], rects22[2], rects23[2]), ('Grade A', 'Grade B', 'Grade C') )\n",
    "ax[2].set_title('NN With Hyperparameter Tuning and Feature Selection')"
   ]
  },
  {
   "cell_type": "code",
   "execution_count": 4,
   "metadata": {},
   "outputs": [
    {
     "data": {
      "text/plain": [
       "array([[ 1.91896772,  0.42677517, -1.00840757],\n",
       "       [-0.87909265,  0.92926367, -0.02786941],\n",
       "       [ 1.68122677, -0.71809554,  1.38245098],\n",
       "       ...,\n",
       "       [-0.90919705,  1.27885005,  0.65772712],\n",
       "       [-0.62700193,  0.27730874, -1.36271046],\n",
       "       [-0.23858092, -0.56733746,  0.47577674]])"
      ]
     },
     "execution_count": 4,
     "metadata": {},
     "output_type": "execute_result"
    }
   ],
   "source": [
    "np.random.randn(1000, 3)"
   ]
  },
  {
   "cell_type": "code",
   "execution_count": null,
   "metadata": {},
   "outputs": [],
   "source": [
    "#each column is a bar color--labels are columns, F1 scores are rows"
   ]
  },
  {
   "cell_type": "code",
   "execution_count": null,
   "metadata": {},
   "outputs": [],
   "source": []
  },
  {
   "cell_type": "code",
   "execution_count": null,
   "metadata": {},
   "outputs": [],
   "source": []
  },
  {
   "cell_type": "code",
   "execution_count": null,
   "metadata": {},
   "outputs": [],
   "source": [
    "# ax[0,0].imshow(orig_lr)\n",
    "# ax[0,1].imshow(ht_lr)\n",
    "# ax[0,2].imshow(fs_lr)\n",
    "\n",
    "# ax[1,0].imshow(orig_rf)\n",
    "# ax[1,1].imshow(ht_rf)\n",
    "# ax[1,2].imshow(fs_rf)\n",
    "\n",
    "# ax[2,0].imshow(orig_svm)\n",
    "# ax[2,1].imshow(ht_svm)\n",
    "# ax[2,2].imshow(fs_svn)\n",
    "\n",
    "# ax[3,0].imshow(orig_qda)\n",
    "# ax[3,1].imshow(ht_qda)\n",
    "# ax[3,2].imshow(fs_qda)\n",
    "\n",
    "# ax[4,0].imshow(orig_nn)\n",
    "# ax[4,1].imshow(ht_nn)\n",
    "# ax[4,2].imshow(fs_nn)"
   ]
  }
 ],
 "metadata": {
  "kernelspec": {
   "display_name": "Python 3",
   "language": "python",
   "name": "python3"
  },
  "language_info": {
   "codemirror_mode": {
    "name": "ipython",
    "version": 3
   },
   "file_extension": ".py",
   "mimetype": "text/x-python",
   "name": "python",
   "nbconvert_exporter": "python",
   "pygments_lexer": "ipython3",
   "version": "3.8.3"
  }
 },
 "nbformat": 4,
 "nbformat_minor": 4
}
