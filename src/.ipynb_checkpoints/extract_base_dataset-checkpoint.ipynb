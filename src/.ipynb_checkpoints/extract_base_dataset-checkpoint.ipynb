{
 "cells": [
  {
   "cell_type": "code",
   "execution_count": 207,
   "metadata": {},
   "outputs": [],
   "source": [
    "import pandas as pd\n",
    "import os"
   ]
  },
  {
   "cell_type": "code",
   "execution_count": 208,
   "metadata": {},
   "outputs": [],
   "source": [
    "JRC_DATASET_PATH = '../data/fixed_elevation_dataset.csv'"
   ]
  },
  {
   "cell_type": "code",
   "execution_count": 209,
   "metadata": {},
   "outputs": [],
   "source": [
    "df = pd.read_csv(JRC_DATASET_PATH)"
   ]
  },
  {
   "cell_type": "code",
   "execution_count": 210,
   "metadata": {},
   "outputs": [],
   "source": [
    "df = df[df['avg_annual_generation_GWh'].notnull()]\n",
    "df = df[df['volume_Mm3'].notnull()]\n",
    "df = df[df['volume_Mm3'] > 10]"
   ]
  },
  {
   "cell_type": "code",
   "execution_count": 211,
   "metadata": {},
   "outputs": [],
   "source": [
    "df['gwh_per_mm3'] = df['avg_annual_generation_GWh'] / df['volume_Mm3']"
   ]
  },
  {
   "cell_type": "code",
   "execution_count": null,
   "metadata": {},
   "outputs": [],
   "source": []
  },
  {
   "cell_type": "code",
   "execution_count": 212,
   "metadata": {},
   "outputs": [],
   "source": [
    "base = df[['gwh_per_mm3', 'lat', 'lon', 'type']]\n",
    "base.rename(columns={\n",
    "    'lat': 'latitude', \n",
    "    'lon': 'longitude'\n",
    "}, inplace=True)"
   ]
  },
  {
   "cell_type": "code",
   "execution_count": 213,
   "metadata": {},
   "outputs": [
    {
     "data": {
      "text/plain": [
       "(384, 4)"
      ]
     },
     "execution_count": 213,
     "metadata": {},
     "output_type": "execute_result"
    }
   ],
   "source": [
    "base.shape"
   ]
  },
  {
   "cell_type": "code",
   "execution_count": 214,
   "metadata": {},
   "outputs": [],
   "source": [
    "base.to_csv('../data/base_dataset.csv', index=False)"
   ]
  },
  {
   "cell_type": "code",
   "execution_count": null,
   "metadata": {},
   "outputs": [],
   "source": []
  },
  {
   "cell_type": "code",
   "execution_count": 217,
   "metadata": {},
   "outputs": [
    {
     "data": {
      "text/html": [
       "<div>\n",
       "<style scoped>\n",
       "    .dataframe tbody tr th:only-of-type {\n",
       "        vertical-align: middle;\n",
       "    }\n",
       "\n",
       "    .dataframe tbody tr th {\n",
       "        vertical-align: top;\n",
       "    }\n",
       "\n",
       "    .dataframe thead th {\n",
       "        text-align: right;\n",
       "    }\n",
       "</style>\n",
       "<table border=\"1\" class=\"dataframe\">\n",
       "  <thead>\n",
       "    <tr style=\"text-align: right;\">\n",
       "      <th></th>\n",
       "      <th>Unnamed: 0</th>\n",
       "      <th>id</th>\n",
       "      <th>name</th>\n",
       "      <th>installed_capacity_MW</th>\n",
       "      <th>pumping_MW</th>\n",
       "      <th>type</th>\n",
       "      <th>country_code</th>\n",
       "      <th>lat</th>\n",
       "      <th>lon</th>\n",
       "      <th>dam_height_m</th>\n",
       "      <th>volume_Mm3</th>\n",
       "      <th>storage_capacity_MWh</th>\n",
       "      <th>avg_annual_generation_GWh</th>\n",
       "      <th>pypsa_id</th>\n",
       "      <th>GEO</th>\n",
       "      <th>WRI</th>\n",
       "      <th>altitude (m)</th>\n",
       "      <th>gwh_per_mm3</th>\n",
       "    </tr>\n",
       "  </thead>\n",
       "  <tbody>\n",
       "    <tr>\n",
       "      <th>859</th>\n",
       "      <td>860</td>\n",
       "      <td>H202</td>\n",
       "      <td>Krångede Krangede Hydroelectric Power Plant Sw...</td>\n",
       "      <td>250.0</td>\n",
       "      <td>NaN</td>\n",
       "      <td>HDAM</td>\n",
       "      <td>SE</td>\n",
       "      <td>63.146230</td>\n",
       "      <td>16.070600</td>\n",
       "      <td>20.00</td>\n",
       "      <td>60.00</td>\n",
       "      <td>NaN</td>\n",
       "      <td>1650.00</td>\n",
       "      <td>2745.0</td>\n",
       "      <td>45669.0</td>\n",
       "      <td>NaN</td>\n",
       "      <td>194.1</td>\n",
       "      <td>27.500000</td>\n",
       "    </tr>\n",
       "    <tr>\n",
       "      <th>2567</th>\n",
       "      <td>2568</td>\n",
       "      <td>H71</td>\n",
       "      <td>Messaure Messaure G1 - Messaure Hydroelectric ...</td>\n",
       "      <td>450.0</td>\n",
       "      <td>NaN</td>\n",
       "      <td>HDAM</td>\n",
       "      <td>SE</td>\n",
       "      <td>66.691226</td>\n",
       "      <td>20.345341</td>\n",
       "      <td>101.00</td>\n",
       "      <td>54.00</td>\n",
       "      <td>NaN</td>\n",
       "      <td>1840.00</td>\n",
       "      <td>5.0</td>\n",
       "      <td>42918.0</td>\n",
       "      <td>NaN</td>\n",
       "      <td>167.1</td>\n",
       "      <td>34.074074</td>\n",
       "    </tr>\n",
       "    <tr>\n",
       "      <th>2625</th>\n",
       "      <td>2626</td>\n",
       "      <td>H78</td>\n",
       "      <td>Letsi Letsi G1 - Letsi Hydroelectric Power Pla...</td>\n",
       "      <td>435.0</td>\n",
       "      <td>NaN</td>\n",
       "      <td>HDAM</td>\n",
       "      <td>SE</td>\n",
       "      <td>66.503203</td>\n",
       "      <td>20.380167</td>\n",
       "      <td>85.00</td>\n",
       "      <td>68.00</td>\n",
       "      <td>NaN</td>\n",
       "      <td>1720.00</td>\n",
       "      <td>3.0</td>\n",
       "      <td>44343.0</td>\n",
       "      <td>NaN</td>\n",
       "      <td>213.8</td>\n",
       "      <td>25.294118</td>\n",
       "    </tr>\n",
       "    <tr>\n",
       "      <th>2671</th>\n",
       "      <td>2672</td>\n",
       "      <td>H83</td>\n",
       "      <td>Genissiat GENISSIAT - Genissiat Hydroelectric ...</td>\n",
       "      <td>405.0</td>\n",
       "      <td>NaN</td>\n",
       "      <td>HDAM</td>\n",
       "      <td>FR</td>\n",
       "      <td>46.052710</td>\n",
       "      <td>5.812850</td>\n",
       "      <td>71.15</td>\n",
       "      <td>56.00</td>\n",
       "      <td>NaN</td>\n",
       "      <td>1700.00</td>\n",
       "      <td>1621.0</td>\n",
       "      <td>39698.0</td>\n",
       "      <td>NaN</td>\n",
       "      <td>328.0</td>\n",
       "      <td>30.357143</td>\n",
       "    </tr>\n",
       "    <tr>\n",
       "      <th>3075</th>\n",
       "      <td>3076</td>\n",
       "      <td>N4</td>\n",
       "      <td>Tonstad</td>\n",
       "      <td>960.0</td>\n",
       "      <td>NaN</td>\n",
       "      <td>HDAM</td>\n",
       "      <td>NO</td>\n",
       "      <td>58.658155</td>\n",
       "      <td>6.728166</td>\n",
       "      <td>442.00</td>\n",
       "      <td>70.19</td>\n",
       "      <td>73840.0</td>\n",
       "      <td>4357.37</td>\n",
       "      <td>NaN</td>\n",
       "      <td>NaN</td>\n",
       "      <td>NaN</td>\n",
       "      <td>190.6</td>\n",
       "      <td>62.079641</td>\n",
       "    </tr>\n",
       "  </tbody>\n",
       "</table>\n",
       "</div>"
      ],
      "text/plain": [
       "      Unnamed: 0    id                                               name  \\\n",
       "859          860  H202  Krångede Krangede Hydroelectric Power Plant Sw...   \n",
       "2567        2568   H71  Messaure Messaure G1 - Messaure Hydroelectric ...   \n",
       "2625        2626   H78  Letsi Letsi G1 - Letsi Hydroelectric Power Pla...   \n",
       "2671        2672   H83  Genissiat GENISSIAT - Genissiat Hydroelectric ...   \n",
       "3075        3076    N4                                            Tonstad   \n",
       "\n",
       "      installed_capacity_MW  pumping_MW  type country_code        lat  \\\n",
       "859                   250.0         NaN  HDAM           SE  63.146230   \n",
       "2567                  450.0         NaN  HDAM           SE  66.691226   \n",
       "2625                  435.0         NaN  HDAM           SE  66.503203   \n",
       "2671                  405.0         NaN  HDAM           FR  46.052710   \n",
       "3075                  960.0         NaN  HDAM           NO  58.658155   \n",
       "\n",
       "            lon  dam_height_m  volume_Mm3  storage_capacity_MWh  \\\n",
       "859   16.070600         20.00       60.00                   NaN   \n",
       "2567  20.345341        101.00       54.00                   NaN   \n",
       "2625  20.380167         85.00       68.00                   NaN   \n",
       "2671   5.812850         71.15       56.00                   NaN   \n",
       "3075   6.728166        442.00       70.19               73840.0   \n",
       "\n",
       "      avg_annual_generation_GWh  pypsa_id      GEO  WRI  altitude (m)  \\\n",
       "859                     1650.00    2745.0  45669.0  NaN         194.1   \n",
       "2567                    1840.00       5.0  42918.0  NaN         167.1   \n",
       "2625                    1720.00       3.0  44343.0  NaN         213.8   \n",
       "2671                    1700.00    1621.0  39698.0  NaN         328.0   \n",
       "3075                    4357.37       NaN      NaN  NaN         190.6   \n",
       "\n",
       "      gwh_per_mm3  \n",
       "859     27.500000  \n",
       "2567    34.074074  \n",
       "2625    25.294118  \n",
       "2671    30.357143  \n",
       "3075    62.079641  "
      ]
     },
     "execution_count": 217,
     "metadata": {},
     "output_type": "execute_result"
    }
   ],
   "source": [
    "df[df['gwh_per_mm3'] > 20]"
   ]
  },
  {
   "cell_type": "code",
   "execution_count": 215,
   "metadata": {},
   "outputs": [
    {
     "data": {
      "text/plain": [
       "<matplotlib.axes._subplots.AxesSubplot at 0x11bb32ad0>"
      ]
     },
     "execution_count": 215,
     "metadata": {},
     "output_type": "execute_result"
    },
    {
     "data": {
      "image/png": "[encoded data removed]",
      "text/plain": [
       "<Figure size 432x288 with 1 Axes>"
      ]
     },
     "metadata": {
      "needs_background": "light"
     },
     "output_type": "display_data"
    }
   ],
   "source": [
    "df['gwh_per_mm3'].hist(bins=100)"
   ]
  },
  {
   "cell_type": "code",
   "execution_count": 216,
   "metadata": {},
   "outputs": [
    {
     "data": {
      "text/html": [
       "<div>\n",
       "<style scoped>\n",
       "    .dataframe tbody tr th:only-of-type {\n",
       "        vertical-align: middle;\n",
       "    }\n",
       "\n",
       "    .dataframe tbody tr th {\n",
       "        vertical-align: top;\n",
       "    }\n",
       "\n",
       "    .dataframe thead th {\n",
       "        text-align: right;\n",
       "    }\n",
       "</style>\n",
       "<table border=\"1\" class=\"dataframe\">\n",
       "  <thead>\n",
       "    <tr style=\"text-align: right;\">\n",
       "      <th></th>\n",
       "      <th>gwh_per_mm3</th>\n",
       "      <th>latitude</th>\n",
       "      <th>longitude</th>\n",
       "      <th>type</th>\n",
       "    </tr>\n",
       "  </thead>\n",
       "  <tbody>\n",
       "    <tr>\n",
       "      <th>0</th>\n",
       "      <td>3.500000</td>\n",
       "      <td>46.073100</td>\n",
       "      <td>7.403400</td>\n",
       "      <td>HDAM</td>\n",
       "    </tr>\n",
       "    <tr>\n",
       "      <th>21</th>\n",
       "      <td>0.478689</td>\n",
       "      <td>40.330500</td>\n",
       "      <td>22.125300</td>\n",
       "      <td>HDAM</td>\n",
       "    </tr>\n",
       "    <tr>\n",
       "      <th>25</th>\n",
       "      <td>0.240000</td>\n",
       "      <td>44.774583</td>\n",
       "      <td>24.271250</td>\n",
       "      <td>HDAM</td>\n",
       "    </tr>\n",
       "    <tr>\n",
       "      <th>34</th>\n",
       "      <td>1.707926</td>\n",
       "      <td>47.275002</td>\n",
       "      <td>12.756000</td>\n",
       "      <td>HPHS</td>\n",
       "    </tr>\n",
       "    <tr>\n",
       "      <th>37</th>\n",
       "      <td>2.010050</td>\n",
       "      <td>44.920417</td>\n",
       "      <td>24.250417</td>\n",
       "      <td>HDAM</td>\n",
       "    </tr>\n",
       "    <tr>\n",
       "      <th>...</th>\n",
       "      <td>...</td>\n",
       "      <td>...</td>\n",
       "      <td>...</td>\n",
       "      <td>...</td>\n",
       "    </tr>\n",
       "    <tr>\n",
       "      <th>3802</th>\n",
       "      <td>0.042781</td>\n",
       "      <td>62.930266</td>\n",
       "      <td>12.151988</td>\n",
       "      <td>HDAM</td>\n",
       "    </tr>\n",
       "    <tr>\n",
       "      <th>3830</th>\n",
       "      <td>0.130024</td>\n",
       "      <td>59.739328</td>\n",
       "      <td>6.518956</td>\n",
       "      <td>HDAM</td>\n",
       "    </tr>\n",
       "    <tr>\n",
       "      <th>3970</th>\n",
       "      <td>0.037317</td>\n",
       "      <td>60.227764</td>\n",
       "      <td>10.375241</td>\n",
       "      <td>HDAM</td>\n",
       "    </tr>\n",
       "    <tr>\n",
       "      <th>4089</th>\n",
       "      <td>0.156790</td>\n",
       "      <td>64.254483</td>\n",
       "      <td>12.545905</td>\n",
       "      <td>HDAM</td>\n",
       "    </tr>\n",
       "    <tr>\n",
       "      <th>4126</th>\n",
       "      <td>0.195973</td>\n",
       "      <td>59.052309</td>\n",
       "      <td>10.018394</td>\n",
       "      <td>HDAM</td>\n",
       "    </tr>\n",
       "  </tbody>\n",
       "</table>\n",
       "<p>384 rows × 4 columns</p>\n",
       "</div>"
      ],
      "text/plain": [
       "      gwh_per_mm3   latitude  longitude  type\n",
       "0        3.500000  46.073100   7.403400  HDAM\n",
       "21       0.478689  40.330500  22.125300  HDAM\n",
       "25       0.240000  44.774583  24.271250  HDAM\n",
       "34       1.707926  47.275002  12.756000  HPHS\n",
       "37       2.010050  44.920417  24.250417  HDAM\n",
       "...           ...        ...        ...   ...\n",
       "3802     0.042781  62.930266  12.151988  HDAM\n",
       "3830     0.130024  59.739328   6.518956  HDAM\n",
       "3970     0.037317  60.227764  10.375241  HDAM\n",
       "4089     0.156790  64.254483  12.545905  HDAM\n",
       "4126     0.195973  59.052309  10.018394  HDAM\n",
       "\n",
       "[384 rows x 4 columns]"
      ]
     },
     "execution_count": 216,
     "metadata": {},
     "output_type": "execute_result"
    }
   ],
   "source": [
    "base"
   ]
  },
  {
   "cell_type": "code",
   "execution_count": null,
   "metadata": {},
   "outputs": [],
   "source": []
  }
 ],
 "metadata": {
  "kernelspec": {
   "display_name": "Python 3",
   "language": "python",
   "name": "python3"
  },
  "language_info": {
   "codemirror_mode": {
    "name": "ipython",
    "version": 3
   },
   "file_extension": ".py",
   "mimetype": "text/x-python",
   "name": "python",
   "nbconvert_exporter": "python",
   "pygments_lexer": "ipython3",
   "version": "3.7.6"
  }
 },
 "nbformat": 4,
 "nbformat_minor": 2
}
