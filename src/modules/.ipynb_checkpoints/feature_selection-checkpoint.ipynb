{
 "cells": [
  {
   "cell_type": "code",
   "execution_count": 1,
   "metadata": {},
   "outputs": [],
   "source": [
    "import numpy as np\n",
    "import pandas as pd\n",
    "import matplotlib.pyplot as plt\n",
    "from matplotlib import pyplot\n",
    "\n",
    "from sklearn import preprocessing\n",
    "from sklearn.model_selection import GridSearchCV\n",
    "from sklearn.metrics import classification_report, f1_score\n",
    "from sklearn.model_selection import train_test_split\n",
    "from sklearn.preprocessing import scale\n",
    "\n",
    "from sklearn.ensemble import RandomForestClassifier\n",
    "from sklearn.linear_model import LogisticRegression"
   ]
  },
  {
   "cell_type": "code",
   "execution_count": 2,
   "metadata": {},
   "outputs": [],
   "source": [
    "# Pipeline params\n",
    "SEED = 1\n",
    "DATA_DIR = '../../data'\n",
    "BASE_DATASET =  f'{DATA_DIR}/hydropower_efficiency.discretized_labels.csv'\n",
    "\n",
    "ATTRIBUTES = [\n",
    "    \"altitude_m\",\n",
    "    \"nearest_lake_dist_km\",\n",
    "    \"days_of_rain\",\n",
    "    \"rainfall\",\n",
    "    \"avg_daily_temp\",\n",
    "    \"sea_level_pressure\",\n",
    "    \"global_radiation\",\n",
    "    \"50m_gradient\",\n",
    "    \"500m_gradient\",\n",
    "]"
   ]
  },
  {
   "cell_type": "code",
   "execution_count": null,
   "metadata": {},
   "outputs": [],
   "source": []
  },
  {
   "cell_type": "code",
   "execution_count": 3,
   "metadata": {},
   "outputs": [],
   "source": [
    "# Load and split dataset \n",
    "base_df = pd.read_csv(BASE_DATASET)\n",
    "base_df.drop('plant_id', axis=1, inplace=True)\n",
    "base_df.drop('type', axis=1, inplace=True)\n",
    "base_df = base_df[base_df['gwh_per_mm3'] < 10] \n",
    "\n",
    "X, y = base_df.drop('grade', axis=1), base_df['grade']\n",
    "X = X[ATTRIBUTES]\n",
    "\n",
    "X_train, X_test, y_train, y_test = train_test_split(X, y, test_size=0.1, random_state=SEED)\n",
    "X_train, X_val, y_train, y_val = train_test_split(X_train, y_train, test_size=0.2, random_state=SEED)"
   ]
  },
  {
   "cell_type": "code",
   "execution_count": null,
   "metadata": {},
   "outputs": [],
   "source": []
  },
  {
   "cell_type": "code",
   "execution_count": 4,
   "metadata": {},
   "outputs": [],
   "source": [
    "# Scale features\n",
    "scaler = preprocessing.MinMaxScaler()\n",
    "X_train[ATTRIBUTES] = scaler.fit_transform(X_train[ATTRIBUTES])\n",
    "X_val[ATTRIBUTES] = scaler.transform(X_val[ATTRIBUTES])"
   ]
  },
  {
   "cell_type": "code",
   "execution_count": null,
   "metadata": {},
   "outputs": [],
   "source": []
  },
  {
   "cell_type": "code",
   "execution_count": 5,
   "metadata": {},
   "outputs": [],
   "source": [
    "PARAMS = {\n",
    "    'class_weight': ['balanced'],\n",
    "    'max_features': ['auto', 'sqrt', 'log2'],\n",
    "    'n_estimators': [500],\n",
    "    'min_samples_leaf': [1, 2, 4],\n",
    "    'n_jobs': [3],\n",
    "    'random_state': [SEED]\n",
    "}"
   ]
  },
  {
   "cell_type": "code",
   "execution_count": 6,
   "metadata": {},
   "outputs": [
    {
     "data": {
      "text/plain": [
       "GridSearchCV(cv=None, error_score=nan,\n",
       "             estimator=RandomForestClassifier(bootstrap=True, ccp_alpha=0.0,\n",
       "                                              class_weight='balanced',\n",
       "                                              criterion='gini', max_depth=None,\n",
       "                                              max_features='auto',\n",
       "                                              max_leaf_nodes=None,\n",
       "                                              max_samples=None,\n",
       "                                              min_impurity_decrease=0.0,\n",
       "                                              min_impurity_split=None,\n",
       "                                              min_samples_leaf=1,\n",
       "                                              min_samples_split=2,\n",
       "                                              min_weight_fraction_leaf=0.0,\n",
       "                                              n_estimators=100, n_jobs=None,\n",
       "                                              oob_score=False,\n",
       "                                              random_state=None, verbose=0,\n",
       "                                              warm_start=False),\n",
       "             iid='deprecated', n_jobs=None,\n",
       "             param_grid={'class_weight': ['balanced'],\n",
       "                         'max_features': ['auto', 'sqrt', 'log2'],\n",
       "                         'min_samples_leaf': [1, 2, 4], 'n_estimators': [500],\n",
       "                         'n_jobs': [3], 'random_state': [1]},\n",
       "             pre_dispatch='2*n_jobs', refit=True, return_train_score=False,\n",
       "             scoring='f1_macro', verbose=0)"
      ]
     },
     "execution_count": 6,
     "metadata": {},
     "output_type": "execute_result"
    }
   ],
   "source": [
    "clf = GridSearchCV(\n",
    "    RandomForestClassifier(class_weight='balanced'), \n",
    "    PARAMS,\n",
    "    scoring='f1_macro'\n",
    ")\n",
    "clf.fit(X_train, y_train)"
   ]
  },
  {
   "cell_type": "code",
   "execution_count": 13,
   "metadata": {},
   "outputs": [],
   "source": [
    "attr_scores = []\n",
    "for attr, val in zip(ATTRIBUTES, clf.best_estimator_.feature_importances_):\n",
    "    attr_scores.append((val, attr))\n",
    "attr_scores = sorted(attr_scores, reverse=True)"
   ]
  },
  {
   "cell_type": "code",
   "execution_count": 14,
   "metadata": {},
   "outputs": [],
   "source": [
    "max_score = max([p[0] for p in attr_scores])\n",
    "min_score = min([p[0] for p in attr_scores])\n",
    "for i in range(len(attr_scores)):\n",
    "    attr_scores[i] = ((attr_scores[i][0] - min_score) / (max_score - min_score), attr_scores[i][1])"
   ]
  },
  {
   "cell_type": "code",
   "execution_count": 15,
   "metadata": {},
   "outputs": [
    {
     "data": {
      "text/plain": [
       "[(1.0, 'nearest_lake_dist_km'),\n",
       " (0.8279157594394546, '500m_gradient'),\n",
       " (0.6897969400505254, 'rainfall'),\n",
       " (0.6286271530263104, '50m_gradient'),\n",
       " (0.6242451159703758, 'global_radiation'),\n",
       " (0.5723615148427945, 'sea_level_pressure'),\n",
       " (0.5443476424631927, 'altitude_m'),\n",
       " (0.47631200003324264, 'avg_daily_temp'),\n",
       " (0.0, 'days_of_rain')]"
      ]
     },
     "execution_count": 15,
     "metadata": {},
     "output_type": "execute_result"
    }
   ],
   "source": [
    "attr_scores"
   ]
  },
  {
   "cell_type": "code",
   "execution_count": null,
   "metadata": {},
   "outputs": [],
   "source": []
  },
  {
   "cell_type": "code",
   "execution_count": 16,
   "metadata": {},
   "outputs": [],
   "source": [
    "df = pd.DataFrame.from_dict({\n",
    "    'feature': [p[1] for p in attr_scores],\n",
    "    'importance': [p[0] for p in attr_scores]\n",
    "})"
   ]
  },
  {
   "cell_type": "code",
   "execution_count": null,
   "metadata": {},
   "outputs": [],
   "source": []
  },
  {
   "cell_type": "code",
   "execution_count": 24,
   "metadata": {},
   "outputs": [
    {
     "data": {
      "text/plain": [
       "[Text(0, 0, 'nearest_lake_dist_km'),\n",
       " Text(0, 0, '500m_gradient'),\n",
       " Text(0, 0, 'rainfall'),\n",
       " Text(0, 0, '50m_gradient'),\n",
       " Text(0, 0, 'global_radiation'),\n",
       " Text(0, 0, 'sea_level_pressure'),\n",
       " Text(0, 0, 'altitude_m'),\n",
       " Text(0, 0, 'avg_daily_temp'),\n",
       " Text(0, 0, 'days_of_rain')]"
      ]
     },
     "execution_count": 24,
     "metadata": {},
     "output_type": "execute_result"
    },
    {
     "data": {
      "image/png": "[encoded data removed]",
      "text/plain": [
       "<Figure size 432x288 with 1 Axes>"
      ]
     },
     "metadata": {
      "needs_background": "light"
     },
     "output_type": "display_data"
    }
   ],
   "source": [
    "import seaborn as sns\n",
    "ax = sns.barplot(x=\"feature\", y=\"importance\", data=df)\n",
    "ax.set_xticklabels(rotation=90, labels=df['feature'])"
   ]
  },
  {
   "cell_type": "code",
   "execution_count": null,
   "metadata": {},
   "outputs": [],
   "source": []
  },
  {
   "cell_type": "code",
   "execution_count": null,
   "metadata": {},
   "outputs": [],
   "source": []
  }
 ],
 "metadata": {
  "kernelspec": {
   "display_name": "Python 3",
   "language": "python",
   "name": "python3"
  },
  "language_info": {
   "codemirror_mode": {
    "name": "ipython",
    "version": 3
   },
   "file_extension": ".py",
   "mimetype": "text/x-python",
   "name": "python",
   "nbconvert_exporter": "python",
   "pygments_lexer": "ipython3",
   "version": "3.7.6"
  }
 },
 "nbformat": 4,
 "nbformat_minor": 2
}
