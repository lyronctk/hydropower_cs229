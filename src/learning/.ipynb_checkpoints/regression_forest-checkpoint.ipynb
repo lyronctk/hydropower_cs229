{
 "cells": [
  {
   "cell_type": "code",
   "execution_count": 16,
   "metadata": {},
   "outputs": [],
   "source": [
    "library(caret)"
   ]
  },
  {
   "cell_type": "code",
   "execution_count": 22,
   "metadata": {},
   "outputs": [],
   "source": [
    "DATASET_PATH <- '../../data/hydropower_efficiency.discretized_labels.csv'\n",
    "dataset <- read.csv(DATASET_PATH, header=TRUE)\n",
    "ATTRIBUTES = c(\n",
    "    \"altitude_m\",\n",
    "    \"nearest_lake_dist_km\",\n",
    "    \"days_of_rain\",\n",
    "    \"inches_of_rain\",\n",
    "    \"avg_high_temp\",\n",
    "    \"avg_low_temp\"\n",
    ")"
   ]
  },
  {
   "cell_type": "code",
   "execution_count": null,
   "metadata": {},
   "outputs": [],
   "source": []
  }
 ],
 "metadata": {
  "kernelspec": {
   "display_name": "R",
   "language": "R",
   "name": "ir"
  },
  "language_info": {
   "codemirror_mode": "r",
   "file_extension": ".r",
   "mimetype": "text/x-r-source",
   "name": "R",
   "pygments_lexer": "r",
   "version": "3.6.1"
  }
 },
 "nbformat": 4,
 "nbformat_minor": 2
}
