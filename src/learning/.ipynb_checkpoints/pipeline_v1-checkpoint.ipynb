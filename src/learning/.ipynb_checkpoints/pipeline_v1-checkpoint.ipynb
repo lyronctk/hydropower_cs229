{
 "cells": [
  {
   "cell_type": "code",
   "execution_count": 199,
   "metadata": {},
   "outputs": [],
   "source": [
    "import numpy as np\n",
    "import pandas as pd\n",
    "import matplotlib.pyplot as plt\n",
    "\n",
    "from sklearn import preprocessing\n",
    "from sklearn.model_selection import GridSearchCV\n",
    "from sklearn.metrics import classification_report, f1_score\n",
    "from sklearn.model_selection import train_test_split\n",
    "\n",
    "from sklearn.discriminant_analysis import QuadraticDiscriminantAnalysis\n",
    "from sklearn.ensemble import RandomForestClassifier\n",
    "from sklearn.linear_model import LogisticRegression\n",
    "from sklearn.neural_network import MLPClassifier\n",
    "from sklearn.svm import SVC"
   ]
  },
  {
   "cell_type": "code",
   "execution_count": null,
   "metadata": {},
   "outputs": [],
   "source": []
  },
  {
   "cell_type": "code",
   "execution_count": 230,
   "metadata": {},
   "outputs": [],
   "source": [
    "# Pipeline params\n",
    "DATA_DIR = '../../data'\n",
    "BASE_DATASET =  f'{DATA_DIR}/hydropower_efficiency.discretized_labels.csv'\n",
    "\n",
    "SEED = 1\n",
    "ATTRIBUTES = [\n",
    "    \"altitude_m\",\n",
    "    \"nearest_lake_dist_km\",\n",
    "    \"days_of_rain\",\n",
    "    \"inches_of_rain\",\n",
    "    \"avg_high_temp\",\n",
    "    \"avg_low_temp\"\n",
    "]\n",
    "\n",
    "DISPLAY_F1_ONLY = False\n",
    "TUNE_HYPER_PARAMS = False"
   ]
  },
  {
   "cell_type": "code",
   "execution_count": null,
   "metadata": {},
   "outputs": [],
   "source": []
  },
  {
   "cell_type": "code",
   "execution_count": 201,
   "metadata": {},
   "outputs": [],
   "source": [
    "# Load and split dataset \n",
    "base_df = pd.read_csv(BASE_DATASET)\n",
    "base_df.drop('plant_id', axis=1, inplace=True)\n",
    "base_df.drop('type', axis=1, inplace=True)\n",
    "base_df = base_df[base_df['gwh_per_mm3'] < 10] \n",
    "\n",
    "X, y = base_df.drop('grade', axis=1), base_df['grade']\n",
    "X = X[ATTRIBUTES]\n",
    "\n",
    "X_train, X_test, y_train, y_test = train_test_split(X, y, test_size=0.1, random_state=SEED)\n",
    "X_train, X_val, y_train, y_val = train_test_split(X_train, y_train, test_size=0.2, random_state=SEED)"
   ]
  },
  {
   "cell_type": "code",
   "execution_count": null,
   "metadata": {},
   "outputs": [],
   "source": []
  },
  {
   "cell_type": "code",
   "execution_count": 202,
   "metadata": {},
   "outputs": [],
   "source": [
    "# Scale features\n",
    "scaler = preprocessing.MinMaxScaler()\n",
    "X_train[ATTRIBUTES] = scaler.fit_transform(X_train[ATTRIBUTES])\n",
    "X_val[ATTRIBUTES] = scaler.transform(X_val[ATTRIBUTES])"
   ]
  },
  {
   "cell_type": "code",
   "execution_count": null,
   "metadata": {},
   "outputs": [],
   "source": []
  },
  {
   "cell_type": "code",
   "execution_count": 232,
   "metadata": {},
   "outputs": [],
   "source": [
    "# Models + grid search params\n",
    "classifiers = {\n",
    "    'LR': LogisticRegression(class_weight='balanced'),\n",
    "    'RF': RandomForestClassifier(class_weight='balanced'),\n",
    "    'QDA': QuadraticDiscriminantAnalysis(),\n",
    "    'SVM': SVC(class_weight='balanced'),\n",
    "    'NN': MLPClassifier()\n",
    "}\n",
    "\n",
    "params = {\n",
    "    'LR': {\n",
    "        'class_weight': ['balanced'],\n",
    "        'multi_class': ['multinomial'],\n",
    "        'random_state': [SEED]\n",
    "    },\n",
    "    'RF': {\n",
    "        'class_weight': ['balanced'],\n",
    "        'max_features': ['auto', 'sqrt', 'log2'],\n",
    "        'n_estimators': [500],\n",
    "        'min_samples_leaf': [1, 2, 4],\n",
    "        'n_jobs': [3],\n",
    "        'random_state': [SEED]\n",
    "    },\n",
    "    'SVM': {\n",
    "        'class_weight': ['balanced'],\n",
    "        'kernel': ['linear', 'poly', 'rbf'], \n",
    "        'C': [0.001, 0.1, 1, 10],\n",
    "        'degree': [3, 5, 10, 20]\n",
    "    },\n",
    "    'QDA': {\n",
    "        \n",
    "    },\n",
    "    'NN': {\n",
    "        \n",
    "    }\n",
    "}"
   ]
  },
  {
   "cell_type": "code",
   "execution_count": null,
   "metadata": {},
   "outputs": [],
   "source": []
  },
  {
   "cell_type": "code",
   "execution_count": 233,
   "metadata": {},
   "outputs": [],
   "source": [
    "def eval_tuned_clf(base_clf_name):\n",
    "    if TUNE_HYPER_PARAMS:\n",
    "        clf = GridSearchCV(\n",
    "            classifiers[base_clf_name], \n",
    "            params[base_clf_name],\n",
    "            scoring='f1_macro'\n",
    "        )\n",
    "    else:\n",
    "        clf = classifiers[base_clf_name]\n",
    "    clf.fit(X_train, y_train)\n",
    "    \n",
    "    preds_train = clf.predict(X_train)\n",
    "    preds_val = clf.predict(X_val)\n",
    "    \n",
    "    train_f1 = f1_score(y_train, preds_train, average='macro')\n",
    "    val_f1 = f1_score(y_val, preds_val, average='macro')\n",
    "    \n",
    "    if DISPLAY_F1_ONLY:\n",
    "        print(f'== train f1: {train_f1}')\n",
    "        print(f'== val f1: {val_f1}')\n",
    "    else:\n",
    "        print(f'== train')\n",
    "        print(classification_report(y_train, preds_train))\n",
    "        print('==')\n",
    "\n",
    "        print(f'== val')\n",
    "        print(classification_report(y_val, preds_val))\n",
    "        print('==')"
   ]
  },
  {
   "cell_type": "code",
   "execution_count": 234,
   "metadata": {},
   "outputs": [
    {
     "name": "stdout",
     "output_type": "stream",
     "text": [
      "== train\n",
      "              precision    recall  f1-score   support\n",
      "\n",
      "           0       1.00      1.00      1.00       188\n",
      "           1       1.00      1.00      1.00        89\n",
      "           2       1.00      1.00      1.00        32\n",
      "\n",
      "    accuracy                           1.00       309\n",
      "   macro avg       1.00      1.00      1.00       309\n",
      "weighted avg       1.00      1.00      1.00       309\n",
      "\n",
      "==\n",
      "== val\n",
      "              precision    recall  f1-score   support\n",
      "\n",
      "           0       0.71      0.79      0.75        52\n",
      "           1       0.44      0.37      0.40        19\n",
      "           2       0.25      0.14      0.18         7\n",
      "\n",
      "    accuracy                           0.63        78\n",
      "   macro avg       0.46      0.43      0.44        78\n",
      "weighted avg       0.60      0.63      0.61        78\n",
      "\n",
      "==\n"
     ]
    }
   ],
   "source": [
    "eval_tuned_clf('RF')"
   ]
  },
  {
   "cell_type": "code",
   "execution_count": 235,
   "metadata": {},
   "outputs": [
    {
     "name": "stdout",
     "output_type": "stream",
     "text": [
      "== train\n",
      "              precision    recall  f1-score   support\n",
      "\n",
      "           0       0.72      0.72      0.72       188\n",
      "           1       0.44      0.35      0.39        89\n",
      "           2       0.38      0.56      0.45        32\n",
      "\n",
      "    accuracy                           0.60       309\n",
      "   macro avg       0.51      0.54      0.52       309\n",
      "weighted avg       0.60      0.60      0.60       309\n",
      "\n",
      "==\n",
      "== val\n",
      "              precision    recall  f1-score   support\n",
      "\n",
      "           0       0.67      0.67      0.67        52\n",
      "           1       0.23      0.16      0.19        19\n",
      "           2       0.15      0.29      0.20         7\n",
      "\n",
      "    accuracy                           0.51        78\n",
      "   macro avg       0.35      0.37      0.35        78\n",
      "weighted avg       0.52      0.51      0.51        78\n",
      "\n",
      "==\n"
     ]
    }
   ],
   "source": [
    "eval_tuned_clf('SVM')"
   ]
  },
  {
   "cell_type": "code",
   "execution_count": null,
   "metadata": {},
   "outputs": [],
   "source": []
  },
  {
   "cell_type": "code",
   "execution_count": null,
   "metadata": {},
   "outputs": [],
   "source": [
    "# Try all models\n",
    "for base_clf_name in classifiers.keys():\n",
    "    print(f'=== {base_clf_name} ===')\n",
    "    eval_tuned_clf(base_clf_name)\n",
    "    print('===============')\n",
    "    print()\n",
    "    print()"
   ]
  },
  {
   "cell_type": "code",
   "execution_count": null,
   "metadata": {},
   "outputs": [],
   "source": []
  }
 ],
 "metadata": {
  "kernelspec": {
   "display_name": "Python 3",
   "language": "python",
   "name": "python3"
  },
  "language_info": {
   "codemirror_mode": {
    "name": "ipython",
    "version": 3
   },
   "file_extension": ".py",
   "mimetype": "text/x-python",
   "name": "python",
   "nbconvert_exporter": "python",
   "pygments_lexer": "ipython3",
   "version": "3.7.6"
  }
 },
 "nbformat": 4,
 "nbformat_minor": 4
}
