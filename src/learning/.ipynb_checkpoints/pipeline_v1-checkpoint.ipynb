{
 "cells": [
  {
   "cell_type": "code",
   "execution_count": 14,
   "metadata": {},
   "outputs": [],
   "source": [
    "import pandas as pd\n",
    "import numpy as np\n",
    "\n",
    "from sklearn import preprocessing\n",
    "from sklearn.model_selection import train_test_split\n",
    "import matplotlib.pyplot as plt\n",
    "\n",
    "from sklearn.svm import SVR\n",
    "from sklearn.linear_model import LinearRegression\n",
    "from sklearn.metrics import mean_squared_error"
   ]
  },
  {
   "cell_type": "code",
   "execution_count": 15,
   "metadata": {},
   "outputs": [],
   "source": [
    "DATA_DIR = '../data'\n",
    "BASE_DATASET =  f'{DATA_DIR}/hydropower_efficiency.csv'\n",
    "SEED = 1"
   ]
  },
  {
   "cell_type": "code",
   "execution_count": 19,
   "metadata": {},
   "outputs": [],
   "source": [
    "X, y = base_df.drop('gwh_per_mm3', axis=1), base_df['gwh_per_mm3']\n",
    "X = X[ATTRIBUTES]"
   ]
  },
  {
   "cell_type": "code",
   "execution_count": 20,
   "metadata": {},
   "outputs": [],
   "source": [
    "X_train, X_test, y_train, y_test = train_test_split(X, y, test_size=0.2, random_state=SEED)\n",
    "X_sub, X_train1, y_sub, y_train1 = train_test_split(X_train, y_train, test_size=0.33, random_state=SEED)\n",
    "X_train2, X_train3, y_train2, y_train3 = train_test_split(X_sub, y_sub, test_size=0.5, random_state=SEED)"
   ]
  },
  {
   "cell_type": "code",
   "execution_count": 21,
   "metadata": {},
   "outputs": [
    {
     "name": "stderr",
     "output_type": "stream",
     "text": [
      "/usr/local/lib/python3.7/site-packages/ipykernel_launcher.py:2: SettingWithCopyWarning: \n",
      "A value is trying to be set on a copy of a slice from a DataFrame.\n",
      "Try using .loc[row_indexer,col_indexer] = value instead\n",
      "\n",
      "See the caveats in the documentation: http://pandas.pydata.org/pandas-docs/stable/user_guide/indexing.html#returning-a-view-versus-a-copy\n",
      "  \n",
      "/usr/local/lib/python3.7/site-packages/pandas/core/indexing.py:494: SettingWithCopyWarning: \n",
      "A value is trying to be set on a copy of a slice from a DataFrame.\n",
      "Try using .loc[row_indexer,col_indexer] = value instead\n",
      "\n",
      "See the caveats in the documentation: http://pandas.pydata.org/pandas-docs/stable/user_guide/indexing.html#returning-a-view-versus-a-copy\n",
      "  self.obj[item] = s\n"
     ]
    },
    {
     "ename": "NameError",
     "evalue": "name 'X_val' is not defined",
     "output_type": "error",
     "traceback": [
      "\u001b[0;31m---------------------------------------------------------------------------\u001b[0m",
      "\u001b[0;31mNameError\u001b[0m                                 Traceback (most recent call last)",
      "\u001b[0;32m<ipython-input-21-ccda7756559e>\u001b[0m in \u001b[0;36m<module>\u001b[0;34m\u001b[0m\n\u001b[1;32m      1\u001b[0m \u001b[0mscaler\u001b[0m \u001b[0;34m=\u001b[0m \u001b[0mpreprocessing\u001b[0m\u001b[0;34m.\u001b[0m\u001b[0mMinMaxScaler\u001b[0m\u001b[0;34m(\u001b[0m\u001b[0;34m)\u001b[0m\u001b[0;34m\u001b[0m\u001b[0;34m\u001b[0m\u001b[0m\n\u001b[1;32m      2\u001b[0m \u001b[0mX_train\u001b[0m\u001b[0;34m[\u001b[0m\u001b[0mATTRIBUTES\u001b[0m\u001b[0;34m]\u001b[0m \u001b[0;34m=\u001b[0m \u001b[0mscaler\u001b[0m\u001b[0;34m.\u001b[0m\u001b[0mfit_transform\u001b[0m\u001b[0;34m(\u001b[0m\u001b[0mX_train\u001b[0m\u001b[0;34m[\u001b[0m\u001b[0mATTRIBUTES\u001b[0m\u001b[0;34m]\u001b[0m\u001b[0;34m)\u001b[0m\u001b[0;34m\u001b[0m\u001b[0;34m\u001b[0m\u001b[0m\n\u001b[0;32m----> 3\u001b[0;31m \u001b[0mX_val\u001b[0m\u001b[0;34m[\u001b[0m\u001b[0mATTRIBUTES\u001b[0m\u001b[0;34m]\u001b[0m \u001b[0;34m=\u001b[0m \u001b[0mscaler\u001b[0m\u001b[0;34m.\u001b[0m\u001b[0mtransform\u001b[0m\u001b[0;34m(\u001b[0m\u001b[0mX_val\u001b[0m\u001b[0;34m[\u001b[0m\u001b[0mATTRIBUTES\u001b[0m\u001b[0;34m]\u001b[0m\u001b[0;34m)\u001b[0m\u001b[0;34m\u001b[0m\u001b[0;34m\u001b[0m\u001b[0m\n\u001b[0m",
      "\u001b[0;31mNameError\u001b[0m: name 'X_val' is not defined"
     ]
    }
   ],
   "source": [
    "scaler = preprocessing.MinMaxScaler()\n",
    "X_train[ATTRIBUTES] = scaler.fit_transform(X_train[ATTRIBUTES])\n",
    "X_val[ATTRIBUTES] = scaler.transform(X_val[ATTRIBUTES])"
   ]
  },
  {
   "cell_type": "code",
   "execution_count": 9,
   "metadata": {},
   "outputs": [],
   "source": [
    "from sklearn.metrics import r2_score\n",
    "def train_and_evaluate_model(X_train, y_train, X_val, y_val, algorithm, save_path): #algorithm = constructed algorithm\n",
    "    model = algorithm.fit(X_train, y_train)\n",
    "    \n",
    "    y_pred_train = model.predict(X_train)\n",
    "    mse_train = mean_squared_error(y_train, y_pred_train, squared = False)\n",
    "    r2_train = r2_score(y_train, y_pred_train)\n",
    "    \n",
    "    y_pred_val = model.predict(X_val)\n",
    "    mse_val = mean_squared_error(y_val, y_pred_val, squared = False)\n",
    "    r2_val = r2_score(y_val, y_pred_val)\n",
    "    \n",
    "    plt.scatter(y_pred_val, y_val, marker = 'o')\n",
    "    plt.xlabel('Predicted Plant Efficiency (Annual Generation in GWh per mm^3)')\n",
    "    plt.ylabel('True Plant Efficiency (Annual Generation in GWh per mm^3)')\n",
    "#     plt.xlim(0, 10)\n",
    "#     plt.ylim(0, 10)\n",
    "    plt.savefig('../results/baseline_plots/' + save_path + '.png')\n",
    "    \n",
    "    return mse_train, r2_train, mse_val, r2_val"
   ]
  },
  {
   "cell_type": "code",
   "execution_count": null,
   "metadata": {},
   "outputs": [],
   "source": [
    "arrx = []\n",
    "arrx.append(X_train1)\n",
    "arrx.append(X_train2)\n",
    "arry = []\n",
    "arry.append(y_train1)\n",
    "arry.append(y_train2)\n",
    "train_and_evaluate_model(pd.concat(arrx), pd.concat(arry), X_train3, y_train3, LinearRegression(), 'linear_regression')\n",
    "\n",
    "arrx.clear()\n",
    "arrx.append(X_train2)\n",
    "arrx.append(X_train3)\n",
    "arry.clear()\n",
    "arry.append(y_train2)\n",
    "arry.append(y_train3)\n",
    "train_and_evaluate_model(pd.concat(arrx), pd.concat(arry), X_train1, y_train1, LinearRegression(), 'linear_regression')\n",
    "\n",
    "arrx.clear()\n",
    "arrx.append(X_train1)\n",
    "arrx.append(X_train3)\n",
    "arry.clear()\n",
    "arry.append(y_train1)\n",
    "arry.append(y_train3)\n",
    "\n",
    "train_and_evaluate_model(pd.concat(arrx), pd.concat(arry), X_train2, y_train2, LinearRegression(), 'linear_regression')"
   ]
  }
 ],
 "metadata": {
  "kernelspec": {
   "display_name": "Python 3",
   "language": "python",
   "name": "python3"
  },
  "language_info": {
   "codemirror_mode": {
    "name": "ipython",
    "version": 3
   },
   "file_extension": ".py",
   "mimetype": "text/x-python",
   "name": "python",
   "nbconvert_exporter": "python",
   "pygments_lexer": "ipython3",
   "version": "3.7.6"
  }
 },
 "nbformat": 4,
 "nbformat_minor": 4
}
